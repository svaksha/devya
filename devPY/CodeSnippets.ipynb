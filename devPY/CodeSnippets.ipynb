{
 "cells": [
  {
   "cell_type": "markdown",
   "metadata": {},
   "source": [
    "# Random collection of old code moved to jupyter.\n",
    "COPYRIGHT©: SVAKSHA, GNU AGPLv3 subject to meeting all the terms in the LICENSE file."
   ]
  },
  {
   "cell_type": "code",
   "execution_count": 2,
   "metadata": {},
   "outputs": [
    {
     "name": "stdout",
     "output_type": "stream",
     "text": [
      "value\n",
      "23\n"
     ]
    }
   ],
   "source": [
    "#PROGRAM   : QSort.py\n",
    "\n",
    "import os, re, sys\n",
    "\n",
    "def function(a, b):\n",
    "    a = 'value'\n",
    "    b = b + 1\n",
    "# a and b are local variables that are used to assign the new objects\n",
    "    return a, b\n",
    "# This is the function that is used to return the value stored in b\n",
    "x = \"apple\"\n",
    "y = 22\n",
    "c, d = function(x, y)\n",
    "print(c)\n",
    "print(d)"
   ]
  },
  {
   "cell_type": "code",
   "execution_count": null,
   "metadata": {},
   "outputs": [],
   "source": [
    "# Denoising\n",
    "import numpy as np\n",
    "import matplotlib.pyplot as plt\n",
    "import skimage\n",
    "from skimage import data, img_as_float\n",
    "from skimage.restoration import denoise_nl_means\n",
    "\n",
    "img = [\"img10.png\", \"img11.png\", \"img12.png\", \"img13.png\"]\n",
    "astro = img_as_float(data.astronaut())\n",
    "astro = astro[30:180, 150:300]\n",
    "\n",
    "\n",
    "noisy = astro + 0.3 * np.random.random(astro.shape)\n",
    "noisy = np.clip(noisy, 0, 1)\n",
    "\n",
    "denoise = denoise_nl_means(noisy, 7, 9, 0.08)\n",
    "\n",
    "fig, ax = plt.subplots(ncols=2, figsize=(8, 4), sharex=True, sharey=True, subplot_kw={'adjustable': 'box-forced'})\n",
    "\n",
    "ax[0].imshow(noisy)\n",
    "ax[0].axis('off')\n",
    "ax[0].set_title('noisy')\n",
    "ax[1].imshow(denoise)\n",
    "ax[1].axis('off')\n",
    "ax[1].set_title('non-local means')\n",
    "\n",
    "fig.tight_layout()\n",
    "\n",
    "plt.show()"
   ]
  }
 ],
 "metadata": {
  "kernelspec": {
   "display_name": "Python 3",
   "language": "python",
   "name": "python3"
  },
  "language_info": {
   "codemirror_mode": {
    "name": "ipython",
    "version": 2
   },
   "file_extension": ".py",
   "mimetype": "text/x-python",
   "name": "python",
   "nbconvert_exporter": "python",
   "pygments_lexer": "ipython2",
   "version": "2.7.15+"
  }
 },
 "nbformat": 4,
 "nbformat_minor": 2
}
